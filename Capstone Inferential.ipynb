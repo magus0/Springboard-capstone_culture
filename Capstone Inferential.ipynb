{
 "cells": [
  {
   "cell_type": "code",
   "execution_count": 1,
   "metadata": {},
   "outputs": [],
   "source": [
    "import pandas as pd\n",
    "import numpy as np\n",
    "import matplotlib.pyplot as plt\n",
    "import json\n",
    "import seaborn as sns\n",
    "from numpy.random import seed\n",
    "sns.set()"
   ]
  },
  {
   "cell_type": "code",
   "execution_count": 2,
   "metadata": {},
   "outputs": [],
   "source": [
    "restaurantdf=pd.read_csv('yelp_dataset/restaurantCategoriesEthnicity.csv',encoding = \"utf-8-sig\")"
   ]
  },
  {
   "cell_type": "code",
   "execution_count": 3,
   "metadata": {},
   "outputs": [],
   "source": [
    "#CSV with just business ID and category dummy variable information. \n",
    "categories=pd.read_csv('yelp_dataset/categories.csv',encoding = \"utf-8-sig\")"
   ]
  },
  {
   "cell_type": "code",
   "execution_count": 23,
   "metadata": {},
   "outputs": [],
   "source": [
    "# date_checkin=pd.read_csv('yelp_dataset/date_checkin.csv', encoding=\"utf-8-sig\") "
   ]
  },
  {
   "cell_type": "code",
   "execution_count": 40,
   "metadata": {},
   "outputs": [
    {
     "data": {
      "text/html": [
       "<div>\n",
       "<style scoped>\n",
       "    .dataframe tbody tr th:only-of-type {\n",
       "        vertical-align: middle;\n",
       "    }\n",
       "\n",
       "    .dataframe tbody tr th {\n",
       "        vertical-align: top;\n",
       "    }\n",
       "\n",
       "    .dataframe thead th {\n",
       "        text-align: right;\n",
       "    }\n",
       "</style>\n",
       "<table border=\"1\" class=\"dataframe\">\n",
       "  <thead>\n",
       "    <tr style=\"text-align: right;\">\n",
       "      <th></th>\n",
       "      <th>business_id</th>\n",
       "      <th>name</th>\n",
       "      <th>city</th>\n",
       "      <th>state</th>\n",
       "      <th>date</th>\n",
       "      <th>Afghan</th>\n",
       "      <th>African</th>\n",
       "      <th>American (New)</th>\n",
       "      <th>American (Traditional)</th>\n",
       "      <th>Arabian</th>\n",
       "      <th>...</th>\n",
       "      <th>Tonkatsu</th>\n",
       "      <th>Oaxacan</th>\n",
       "      <th>Guamanian</th>\n",
       "      <th>Iberian</th>\n",
       "      <th>Bulgarian</th>\n",
       "      <th>Soba</th>\n",
       "      <th>Hainan</th>\n",
       "      <th>Senegalese</th>\n",
       "      <th>Churros</th>\n",
       "      <th>racial</th>\n",
       "    </tr>\n",
       "  </thead>\n",
       "  <tbody>\n",
       "    <tr>\n",
       "      <td>0</td>\n",
       "      <td>QXAEGFB4oINsVuTFxEYKFQ</td>\n",
       "      <td>Emerald Chinese Restaurant</td>\n",
       "      <td>Mississauga</td>\n",
       "      <td>ON</td>\n",
       "      <td>2010-07-05 16:56:31, 2010-12-21 20:30:01, 2010...</td>\n",
       "      <td>0</td>\n",
       "      <td>0</td>\n",
       "      <td>0</td>\n",
       "      <td>0</td>\n",
       "      <td>0</td>\n",
       "      <td>...</td>\n",
       "      <td>0</td>\n",
       "      <td>0</td>\n",
       "      <td>0</td>\n",
       "      <td>0</td>\n",
       "      <td>0</td>\n",
       "      <td>0</td>\n",
       "      <td>0</td>\n",
       "      <td>0</td>\n",
       "      <td>0</td>\n",
       "      <td>Asian</td>\n",
       "    </tr>\n",
       "    <tr>\n",
       "      <td>1</td>\n",
       "      <td>gnKjwL_1w79qoiV3IC_xQQ</td>\n",
       "      <td>Musashi Japanese Restaurant</td>\n",
       "      <td>Charlotte</td>\n",
       "      <td>NC</td>\n",
       "      <td>2010-11-13 01:00:36, 2010-12-19 00:49:15, 2011...</td>\n",
       "      <td>0</td>\n",
       "      <td>0</td>\n",
       "      <td>0</td>\n",
       "      <td>0</td>\n",
       "      <td>0</td>\n",
       "      <td>...</td>\n",
       "      <td>0</td>\n",
       "      <td>0</td>\n",
       "      <td>0</td>\n",
       "      <td>0</td>\n",
       "      <td>0</td>\n",
       "      <td>0</td>\n",
       "      <td>0</td>\n",
       "      <td>0</td>\n",
       "      <td>0</td>\n",
       "      <td>Asian</td>\n",
       "    </tr>\n",
       "    <tr>\n",
       "      <td>2</td>\n",
       "      <td>1Dfx3zM-rW4n-31KeC8sJg</td>\n",
       "      <td>Taco Bell</td>\n",
       "      <td>Phoenix</td>\n",
       "      <td>AZ</td>\n",
       "      <td>2010-07-20 22:03:12, 2010-07-26 19:51:14, 2011...</td>\n",
       "      <td>0</td>\n",
       "      <td>0</td>\n",
       "      <td>0</td>\n",
       "      <td>0</td>\n",
       "      <td>0</td>\n",
       "      <td>...</td>\n",
       "      <td>0</td>\n",
       "      <td>0</td>\n",
       "      <td>0</td>\n",
       "      <td>0</td>\n",
       "      <td>0</td>\n",
       "      <td>0</td>\n",
       "      <td>0</td>\n",
       "      <td>0</td>\n",
       "      <td>0</td>\n",
       "      <td>Hispanic</td>\n",
       "    </tr>\n",
       "    <tr>\n",
       "      <td>3</td>\n",
       "      <td>fweCYi8FmbJXHCqLnwuk8w</td>\n",
       "      <td>Marco's Pizza</td>\n",
       "      <td>Mentor-on-the-Lake</td>\n",
       "      <td>OH</td>\n",
       "      <td>2010-09-26 23:14:40, 2010-09-27 01:36:58, 2012...</td>\n",
       "      <td>0</td>\n",
       "      <td>0</td>\n",
       "      <td>0</td>\n",
       "      <td>0</td>\n",
       "      <td>0</td>\n",
       "      <td>...</td>\n",
       "      <td>0</td>\n",
       "      <td>0</td>\n",
       "      <td>0</td>\n",
       "      <td>0</td>\n",
       "      <td>0</td>\n",
       "      <td>0</td>\n",
       "      <td>0</td>\n",
       "      <td>0</td>\n",
       "      <td>0</td>\n",
       "      <td>White</td>\n",
       "    </tr>\n",
       "    <tr>\n",
       "      <td>4</td>\n",
       "      <td>PZ-LZzSlhSe9utkQYU8pFg</td>\n",
       "      <td>Carluccio's Tivoli Gardens</td>\n",
       "      <td>Las Vegas</td>\n",
       "      <td>NV</td>\n",
       "      <td>2010-03-05 03:54:37, 2010-07-15 03:43:42, 2010...</td>\n",
       "      <td>0</td>\n",
       "      <td>0</td>\n",
       "      <td>0</td>\n",
       "      <td>0</td>\n",
       "      <td>0</td>\n",
       "      <td>...</td>\n",
       "      <td>0</td>\n",
       "      <td>0</td>\n",
       "      <td>0</td>\n",
       "      <td>0</td>\n",
       "      <td>0</td>\n",
       "      <td>0</td>\n",
       "      <td>0</td>\n",
       "      <td>0</td>\n",
       "      <td>0</td>\n",
       "      <td>White</td>\n",
       "    </tr>\n",
       "  </tbody>\n",
       "</table>\n",
       "<p>5 rows × 122 columns</p>\n",
       "</div>"
      ],
      "text/plain": [
       "              business_id                         name                city  \\\n",
       "0  QXAEGFB4oINsVuTFxEYKFQ   Emerald Chinese Restaurant         Mississauga   \n",
       "1  gnKjwL_1w79qoiV3IC_xQQ  Musashi Japanese Restaurant           Charlotte   \n",
       "2  1Dfx3zM-rW4n-31KeC8sJg                    Taco Bell             Phoenix   \n",
       "3  fweCYi8FmbJXHCqLnwuk8w                Marco's Pizza  Mentor-on-the-Lake   \n",
       "4  PZ-LZzSlhSe9utkQYU8pFg   Carluccio's Tivoli Gardens           Las Vegas   \n",
       "\n",
       "  state                                               date  Afghan  African  \\\n",
       "0    ON  2010-07-05 16:56:31, 2010-12-21 20:30:01, 2010...       0        0   \n",
       "1    NC  2010-11-13 01:00:36, 2010-12-19 00:49:15, 2011...       0        0   \n",
       "2    AZ  2010-07-20 22:03:12, 2010-07-26 19:51:14, 2011...       0        0   \n",
       "3    OH  2010-09-26 23:14:40, 2010-09-27 01:36:58, 2012...       0        0   \n",
       "4    NV  2010-03-05 03:54:37, 2010-07-15 03:43:42, 2010...       0        0   \n",
       "\n",
       "   American (New)  American (Traditional)  Arabian  ...  Tonkatsu  Oaxacan  \\\n",
       "0               0                       0        0  ...         0        0   \n",
       "1               0                       0        0  ...         0        0   \n",
       "2               0                       0        0  ...         0        0   \n",
       "3               0                       0        0  ...         0        0   \n",
       "4               0                       0        0  ...         0        0   \n",
       "\n",
       "   Guamanian  Iberian  Bulgarian  Soba  Hainan  Senegalese  Churros    racial  \n",
       "0          0        0          0     0       0           0        0     Asian  \n",
       "1          0        0          0     0       0           0        0     Asian  \n",
       "2          0        0          0     0       0           0        0  Hispanic  \n",
       "3          0        0          0     0       0           0        0     White  \n",
       "4          0        0          0     0       0           0        0     White  \n",
       "\n",
       "[5 rows x 122 columns]"
      ]
     },
     "execution_count": 40,
     "metadata": {},
     "output_type": "execute_result"
    }
   ],
   "source": [
    "restaurantdf.head()"
   ]
  },
  {
   "cell_type": "code",
   "execution_count": 79,
   "metadata": {},
   "outputs": [],
   "source": [
    "np.random.seed(50)\n",
    "N_rep = 5000\n",
    "\n",
    "# set up an empty array\n",
    "bs_replicates_white = np.empty(N_rep)\n",
    "bs_replicates_black = np.empty(N_rep)\n",
    "bs_replicates_ai = np.empty(N_rep)\n",
    "bs_replicates_asian = np.empty(N_rep)\n",
    "bs_replicates_pi = np.empty(N_rep)\n",
    "bs_replicates_hispanic = np.empty(N_rep)\n",
    "bs_replicates_notw = np.empty(N_rep)\n",
    "\n",
    "#for each row in the empty array, take a sample and add it to the array\n",
    "for i in range(N_rep):\n",
    "    bs_sample = np.random.choice(restaurantdf.racial, size=len(restaurantdf.racial))\n",
    "    df=pd.DataFrame(bs_sample)\n",
    "    \n",
    "    bs_replicates_white[i] = df[0].value_counts()['White']\n",
    "    bs_replicates_black[i] = df[0].value_counts()['Black']\n",
    "    bs_replicates_ai[i] = df[0].value_counts()['American Indian']\n",
    "    bs_replicates_asian[i] = df[0].value_counts()['Asian']\n",
    "    bs_replicates_pi[i] = df[0].value_counts()['Pacific Islander']\n",
    "    bs_replicates_hispanic[i] = df[0].value_counts()['Hispanic']\n",
    "    bs_replicates_notw[i] = df[0][df[0]!='White'].count()"
   ]
  },
  {
   "cell_type": "code",
   "execution_count": 80,
   "metadata": {},
   "outputs": [],
   "source": [
    "bs_replicates={}\n",
    "bs_replicates['White']=bs_replicates_white\n",
    "bs_replicates['Black']=bs_replicates_black\n",
    "bs_replicates['American Indian']=bs_replicates_ai\n",
    "bs_replicates['Asian']=bs_replicates_asian\n",
    "bs_replicates['Pacific Islander']=bs_replicates_pi\n",
    "bs_replicates['Hispanic']=bs_replicates_hispanic\n",
    "bs_replicates['Foreign']=bs_replicates_notw"
   ]
  },
  {
   "cell_type": "code",
   "execution_count": 81,
   "metadata": {},
   "outputs": [
    {
     "data": {
      "text/plain": [
       "array([18183., 18448., 18590., ..., 18333., 18456., 18441.])"
      ]
     },
     "execution_count": 81,
     "metadata": {},
     "output_type": "execute_result"
    }
   ],
   "source": [
    "bs_replicates['Foreign']"
   ]
  },
  {
   "cell_type": "code",
   "execution_count": 82,
   "metadata": {},
   "outputs": [
    {
     "name": "stdout",
     "output_type": "stream",
     "text": [
      "The lower limit of the 95% confidence interval for White is 17769\n",
      "The lower limit of the 95% confidence interval for Black is 1633\n",
      "The lower limit of the 95% confidence interval for American Indian is 623\n",
      "The lower limit of the 95% confidence interval for Asian is 10579\n",
      "The lower limit of the 95% confidence interval for Pacific Islander is 433\n",
      "The lower limit of the 95% confidence interval for Hispanic is 4757\n",
      "The lower limit of the 95% confidence interval for Foreign is 18246\n"
     ]
    }
   ],
   "source": [
    "for key in bs_replicates:\n",
    "    #95% confidence interval lower limit\n",
    "    lower = np.percentile(bs_replicates[key],5)\n",
    "    print(\"The lower limit of the 95% confidence interval for {0} is {1:.0f}\".format(key,lower))"
   ]
  },
  {
   "cell_type": "markdown",
   "metadata": {},
   "source": [
    "The vastly different counts between the bootstrapped replicates of ethnic restaurants clearly indicates how much influence certain ethnicities like Asian ethnicities have, but this is only about as good as a population count. But a look at white vs foreign ethnic restauraunts combined is similar. A look at whether the true standard deviation would reveal if foreign restaurants are as or more influential."
   ]
  },
  {
   "cell_type": "markdown",
   "metadata": {},
   "source": [
    "Null hypothesis: there is no difference in means between domestic and foreign ethnic restaurants\n",
    "\n",
    "Alternative hypothesis: there is a difference in means between domestic and foreign ethnic restaurants"
   ]
  },
  {
   "cell_type": "code",
   "execution_count": 90,
   "metadata": {},
   "outputs": [],
   "source": [
    "def bs_mean(data, size=1):\n",
    "    \n",
    "    # Initialize array of replicates: bs_replicates\n",
    "    bs_replicates = np.empty(size)\n",
    "\n",
    "    # Take samples from the dataset\n",
    "    for i in range(size):\n",
    "        bs_sample = np.random.choice(data, len(data))\n",
    "        bs_replicates[i] = np.mean(bs_sample)\n",
    "\n",
    "    return bs_replicates"
   ]
  },
  {
   "cell_type": "code",
   "execution_count": 107,
   "metadata": {},
   "outputs": [],
   "source": [
    "bs_diff_mean = bs_mean(bs_replicates['White'], size=10000)-bs_mean(bs_replicates['Foreign'], size=10000)"
   ]
  },
  {
   "cell_type": "code",
   "execution_count": 108,
   "metadata": {},
   "outputs": [],
   "source": [
    "conf_95 = np.percentile(bs_diff_mean,[2.5, 97.5])\n",
    "mean_mean_diff= bs_diff_mean.mean()"
   ]
  },
  {
   "cell_type": "code",
   "execution_count": 109,
   "metadata": {},
   "outputs": [
    {
     "data": {
      "image/png": "[encoded data removed]",
      "text/plain": [
       "<Figure size 432x288 with 1 Axes>"
      ]
     },
     "metadata": {
      "needs_background": "light"
     },
     "output_type": "display_data"
    }
   ],
   "source": [
    "_ = plt.hist(bs_diff_mean, density=True, bins = 40)\n",
    "_ = plt.xlabel('difference in means between domestic and foreign')\n",
    "_ = plt.ylabel('probability')\n",
    "_ = plt.axvline(mean_mean_diff, color='r')\n",
    "_ = plt.axvline(conf_95[0], color='r', linestyle='--')\n",
    "_ = plt.axvline(conf_95[1], color='r', linestyle='--')"
   ]
  },
  {
   "cell_type": "markdown",
   "metadata": {},
   "source": [
    "With a zero being outside of the 95% confidence interval, we will have to reject the null hypothesis that there is no difference in the means of domestic and foreign foods. What this implies is that foreign restaurants and by proxy foreign culture have a stronger presence than domestic culture in the US and Canada where the dataset is taken from."
   ]
  },
  {
   "cell_type": "code",
   "execution_count": 83,
   "metadata": {},
   "outputs": [],
   "source": [
    "def bs_stdev(data, size=1):\n",
    "    \n",
    "    # Initialize array of replicates: bs_replicates\n",
    "    bs_replicates = np.empty(size)\n",
    "\n",
    "    # Take samples from the dataset\n",
    "    for i in range(size):\n",
    "        bs_sample = np.random.choice(data, len(data))\n",
    "        bs_replicates[i] = np.std(bs_sample)\n",
    "\n",
    "    return bs_replicates"
   ]
  },
  {
   "cell_type": "code",
   "execution_count": 84,
   "metadata": {},
   "outputs": [
    {
     "data": {
      "text/plain": [
       "array([110.92219912, 109.97907888, 114.30805057, ..., 110.91788102,\n",
       "       112.80645938, 111.91775109])"
      ]
     },
     "execution_count": 84,
     "metadata": {},
     "output_type": "execute_result"
    }
   ],
   "source": [
    "bs_stdev(bs_replicates['Foreign'], size=10000)"
   ]
  },
  {
   "cell_type": "code",
   "execution_count": 118,
   "metadata": {},
   "outputs": [],
   "source": [
    "bs_diff_stdev = bs_stdev(bs_replicates['White'], size=10000) - bs_stdev(bs_replicates['Foreign'], size=10000)"
   ]
  },
  {
   "cell_type": "code",
   "execution_count": 119,
   "metadata": {},
   "outputs": [
    {
     "name": "stdout",
     "output_type": "stream",
     "text": [
      "The mean of the differences is -0.92\n",
      "The lower bound of the 95% confidence interval that there is a difference is -4.04 \n",
      "The upper bound of the 95% confidence interval that there is a difference is 2.20\n"
     ]
    }
   ],
   "source": [
    "conf_95 = np.percentile(bs_diff_stdev,[2.5, 97.5])\n",
    "mean_stdev_diff= np.mean(bs_diff_stdev)\n",
    "\n",
    "print(\"The mean of the differences is {:.2f}\".format(mean_stdev_diff))\n",
    "print(\"The lower bound of the 95% confidence interval that there is a difference is {0:.2f} \\nThe upper bound of the 95% confidence interval that there is a difference is {1:.2f}\".format(conf_95[0],conf_95[1]))"
   ]
  },
  {
   "cell_type": "code",
   "execution_count": 120,
   "metadata": {},
   "outputs": [
    {
     "data": {
      "image/png": "[encoded data removed]",
      "text/plain": [
       "<Figure size 432x288 with 1 Axes>"
      ]
     },
     "metadata": {
      "needs_background": "light"
     },
     "output_type": "display_data"
    }
   ],
   "source": [
    "_ = plt.hist(bs_diff_stdev , density=True, bins = 40)\n",
    "_ = plt.xlabel('difference in standard deviations between domestic and foreign')\n",
    "_ = plt.ylabel('probability')\n",
    "_ = plt.axvline(mean_stdev_diff, color='r')\n",
    "_ = plt.axvline(conf_95[0], color='r', linestyle='--')\n",
    "_ = plt.axvline(conf_95[1], color='r', linestyle='--')"
   ]
  },
  {
   "cell_type": "code",
   "execution_count": null,
   "metadata": {},
   "outputs": [],
   "source": [
    "np.random.seed(50)\n",
    "N_rep = 1000\n",
    "n2_rep= 50\n",
    "\n",
    "# set up an empty array\n",
    "bs_replicates_white = np.empty(N_rep)\n",
    "bs_replicates_black = np.empty(N_rep)\n",
    "bs_replicates_ai = np.empty(N_rep)\n",
    "bs_replicates_asian = np.empty(N_rep)\n",
    "bs_replicates_pi = np.empty(N_rep)\n",
    "bs_replicates_hispanic = np.empty(N_rep)\n",
    "bs_replicates_notw = np.empty(N_rep)\n",
    "\n",
    "#for each row in the empty array, take a sample and add it to the array\n",
    "for i in range(N_rep):\n",
    "    sample_white = np.empty(N_rep)\n",
    "    sample_black = np.empty(N_rep)\n",
    "    sample_ai = np.empty(N_rep)\n",
    "    sample_asian = np.empty(N_rep)\n",
    "    sample_pi = np.empty(N_rep)\n",
    "    sample_hispanic = np.empty(N_rep)\n",
    "    sample_notw = np.empty(N_rep)\n",
    "    \n",
    "    for j in range(n2_rep):\n",
    "        bs_sample = np.random.choice(restaurantdf.racial, size=len(restaurantdf.racial))\n",
    "        df=pd.DataFrame(bs_sample)\n",
    "        \n",
    "        sample_white[i] = df[0].value_counts()['White']\n",
    "        sample_black[i] = df[0].value_counts()['Black']\n",
    "        sample_ai[i] = df[0].value_counts()['American Indian']\n",
    "        sample_asian[i] = df[0].value_counts()['Asian']\n",
    "        sample_pi[i] = df[0].value_counts()['Pacific Islander']\n",
    "        sample_hispanic[i] = df[0].value_counts()['Hispanic']\n",
    "        sample_notw[i] = df[0][df[0]!='White'].count()\n",
    "    \n",
    "    bs_replicates_white[i] = sample_white.mean()\n",
    "    bs_replicates_black[i] = sample_black.mean()\n",
    "    bs_replicates_ai[i] = sample_ai.mean()\n",
    "    bs_replicates_asian[i] = sample_asian.mean()\n",
    "    bs_replicates_pi[i] = sample_hispanic.mean()\n",
    "    bs_replicates_hispanic[i] = sample_hispanic.mean()\n",
    "    bs_replicates_notw[i] = sample_notw.mean()"
   ]
  }
 ],
 "metadata": {
  "kernelspec": {
   "display_name": "Python 3",
   "language": "python",
   "name": "python3"
  },
  "language_info": {
   "codemirror_mode": {
    "name": "ipython",
    "version": 3
   },
   "file_extension": ".py",
   "mimetype": "text/x-python",
   "name": "python",
   "nbconvert_exporter": "python",
   "pygments_lexer": "ipython3",
   "version": "3.7.4"
  }
 },
 "nbformat": 4,
 "nbformat_minor": 2
}
